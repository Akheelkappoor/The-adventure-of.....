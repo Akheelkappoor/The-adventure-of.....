{
 "cells": [
  {
   "cell_type": "markdown",
   "id": "e187ef3a",
   "metadata": {},
   "source": [
    "## Welocom to the Game of adventure "
   ]
  },
  {
   "cell_type": "code",
   "execution_count": 2,
   "id": "6b923ef4",
   "metadata": {},
   "outputs": [
    {
     "name": "stdout",
     "output_type": "stream",
     "text": [
      "welcome adventure! what you want to call yourself?\n",
      "Akheel kappoor\n"
     ]
    }
   ],
   "source": [
    "print(\"welcome adventure! what you want to call yourself?\")\n",
    "name = input().upper()"
   ]
  },
  {
   "cell_type": "markdown",
   "id": "3c1604cd",
   "metadata": {},
   "source": [
    "#### In the heart of the ancient world lies Eldoria, a village known for its brave souls and legendary heroes. Today, another young adventurer steps forward, destined to face the darkness that lurks in the nearby Darkwood Forest. The Elders have called a gathering at the village square, where destiny awaits."
   ]
  },
  {
   "cell_type": "markdown",
   "id": "2201efec",
   "metadata": {},
   "source": [
    "#### Village Elder (speaking to the crowd): \n",
    "\n",
    "\"Fate has called upon one among us to confront the peril that threatens our very existence. The Darkwood Forest harbors a beast of untold power, and only the sacred artifacts of Eldoria can ensure our survival.\""
   ]
  },
  {
   "cell_type": "code",
   "execution_count": 3,
   "id": "86fd8c95",
   "metadata": {},
   "outputs": [
    {
     "name": "stdout",
     "output_type": "stream",
     "text": [
      "Come on up! AKHEEL KAPPOOR\n"
     ]
    }
   ],
   "source": [
    "print(\"Come on up!\",name.upper())"
   ]
  },
  {
   "cell_type": "markdown",
   "id": "96bfa284",
   "metadata": {},
   "source": [
    "The Elder leads you to the ancient Stone Table, upon which three legendary artifacts rest:"
   ]
  },
  {
   "cell_type": "markdown",
   "id": "3f5f6ce8",
   "metadata": {},
   "source": [
    "#### The Shield:\n",
    "A gleaming, almost ethereal shield known as Aegis of Eldoria. It is said to protect its bearer from any harm, reflecting the darkest of magics and the mightiest of blows.\n",
    "#### The Sword: \n",
    "The Blade of Valor, a sword that shines with an inner light. Forged in the fires of the Eldorian forges, it grants unmatched prowess to those who wield it, cutting through darkness as if it were mere shadow.\n",
    "#### The Potion:\n",
    "A mysterious vial filled with a swirling, radiant liquid known as the Essence of Arcana. Drinking it bestows a superpower of choice—be it Flight, Speed, or Strength, each offering a unique advantage in the trials ahead."
   ]
  },
  {
   "cell_type": "code",
   "execution_count": 4,
   "id": "75c31de5",
   "metadata": {},
   "outputs": [
    {
     "name": "stdout",
     "output_type": "stream",
     "text": [
      "Choose wisely, young hero, for each artifact holds the key to a different destiny. Which will you take to aid your quest in the Darkwood Forest? (Type 'sh' for the Shield, 'sw' for the Sword, or 'p' for the Potion: \n",
      "Try again\n",
      "Choose wisely, young hero, for each artifact holds the key to a different destiny. Which will you take to aid your quest in the Darkwood Forest? (Type 'sh' for the Shield, 'sw' for the Sword, or 'p' for the Potion: sh\n",
      "You feel a surge of invincibility as the shield bonds with you, its surface shimmering with protective runes.\n"
     ]
    }
   ],
   "source": [
    "options  = [\"sh\",\"sw\",\"p\"]\n",
    "\n",
    "while True:\n",
    "    user_input = input(\"Choose wisely, young hero, for each artifact holds the key to a different destiny. Which will you take to aid your quest in the Darkwood Forest? (Type 'sh' for the Shield, 'sw' for the Sword, or 'p' for the Potion: \").lower()\n",
    "    if user_input == \"q\":\n",
    "        print(\"Thank you!\")\n",
    "        break\n",
    "        quit()\n",
    "    elif user_input not in options:\n",
    "        print(\"Try again\")\n",
    "    elif user_input == \"sh\":\n",
    "        print(\"You feel a surge of invincibility as the shield bonds with you, its surface shimmering with protective runes.\")\n",
    "        break\n",
    "        quit()\n",
    "    elif user_input == \"sw\":\n",
    "        print(\"The sword feels light in your hands, its blade aglow, eager for the battle to come.\")\n",
    "        break\n",
    "        quit() \n",
    "    elif user_input == \"p\":\n",
    "        print(\"The potion’s power rushes through you, visions of flying above the treetops, racing as a blur, or overpowering foes with sheer strength fill your mind.\")\n",
    "        break\n",
    "        quit()         "
   ]
  },
  {
   "cell_type": "markdown",
   "id": "72fece1a",
   "metadata": {},
   "source": [
    "Armed with your chosen artifact, you bid farewell to the villagers, their cheers fading behind you as you step into the shadows of the Darkwood Forest, where your true test begins."
   ]
  },
  {
   "cell_type": "markdown",
   "id": "a1938d81",
   "metadata": {},
   "source": [
    "As you venture deeper into Darkwood Forest, the dense foliage gives way to a mysterious clearing. The path diverges before you, and the atmosphere shifts ominously. The choice ahead is crucial, as each path promises a vastly different journey."
   ]
  },
  {
   "cell_type": "markdown",
   "id": "cc048312",
   "metadata": {},
   "source": [
    "The two paths diverge, leading into distinct sections of the forest. A signpost stands in the middle, its wooden arrows faded and pointing vaguely in opposite directions. You sense that your decision here will set the tone for your adventure."
   ]
  },
  {
   "cell_type": "code",
   "execution_count": 5,
   "id": "ea90e724",
   "metadata": {},
   "outputs": [
    {
     "name": "stdout",
     "output_type": "stream",
     "text": [
      "Which path will you choose? The left path is dark and scary but could hold hidden treasures. The right path looks beautiful and safe but might hide unexpected dangers. Type 'left' to brave the dark or 'right' to enjoy the beauty. left\n",
      "The left, the path is shadowed and foreboding. The thick canopy blocks out the light, and the air is damp and chilly. The gnarled trees seem to whisper secrets as you pass, and the ground is covered with twisted roots, making the way treacherous. The path looks dangerous and unsettling, but you might discover hidden secrets if you dare to proceed.\n",
      "Are you sure you want to continue on this path? (y/n) y\n",
      "You steel your nerves and plunge into the darkness. The way is fraught with hazards, but your caution and resolve allow you to navigate through. The path eventually opens up, leading you closer to the heart of the forest, advancing your quest.\n",
      "As you journey along the right path, the tranquil beauty of the meadow belies the danger lurking ahead. Flowers bloom in vibrant colors, and the soft murmur of a nearby stream accompanies your steps. But this idyllic scene is merely a prelude to the challenge you are about to face.\n"
     ]
    }
   ],
   "source": [
    "first_loop = True\n",
    "conformation_path = [\"y\",\"n\"]\n",
    "path_chose = [\"right\",\"left\"]\n",
    "while first_loop:\n",
    "    user_path = input(\"Which path will you choose? The left path is dark and scary but could hold hidden treasures. The right path looks beautiful and safe but might hide unexpected dangers. Type 'left' to brave the dark or 'right' to enjoy the beauty. \").lower()\n",
    "    if user_path == \"q\":\n",
    "        print(\"Game over!\")\n",
    "        print(\"Thank you for playing.\")\n",
    "        break\n",
    "        quit()\n",
    "    elif user_path == \"left\":\n",
    "        print(\"The left, the path is shadowed and foreboding. The thick canopy blocks out the light, and the air is damp and chilly. The gnarled trees seem to whisper secrets as you pass, and the ground is covered with twisted roots, making the way treacherous. The path looks dangerous and unsettling, but you might discover hidden secrets if you dare to proceed.\")\n",
    "    elif user_path == \"right\":\n",
    "        print(\"To the right, the path opens up into a beautiful, sunlit grove. The air is filled with the sound of birdsong, and the forest floor is carpeted with vibrant wildflowers. This route appears safe and inviting, offering a pleasant journey through the forest. However, beauty can sometimes be deceptive, and appearances may not always reflect reality.\") \n",
    "    else:\n",
    "        user_path not in path_chose\n",
    "        continue\n",
    "    \n",
    "    conformation = input(\"Are you sure you want to continue on this path? (y/n) \").lower()\n",
    "        \n",
    "    if conformation == \"y\":\n",
    "        break\n",
    "        quit()\n",
    "    elif conformation == \"q\":\n",
    "        break\n",
    "        quit()\n",
    "    else:\n",
    "        print(\"chose wisely!\")\n",
    "        continue \n",
    "if user_path == \"right\":\n",
    "    print(\"Lured by the promise of an easy trail, you stroll through the blooming meadow. However, the monster of the meadow, a cunning beast, has been waiting. Just as you begin to relax, it strikes, and you find yourself in a desperate struggle for survival. This choice proves fatal, as the creature overwhelms you, ending your journey prematurely.\")\n",
    "    print(\"Game over!\")\n",
    "    print(\"computer won\")\n",
    "else:\n",
    "    user_path == \"left\"\n",
    "    print(\"You steel your nerves and plunge into the darkness. The way is fraught with hazards, but your caution and resolve allow you to navigate through. The path eventually opens up, leading you closer to the heart of the forest, advancing your quest.\")\n",
    "    \n",
    "if user_path == \"left\":\n",
    "    print(\"As you journey along the right path, the tranquil beauty of the meadow belies the danger lurking ahead. Flowers bloom in vibrant colors, and the soft murmur of a nearby stream accompanies your steps. But this idyllic scene is merely a prelude to the challenge you are about to face.\")\n",
    "    quit()  "
   ]
  },
  {
   "cell_type": "markdown",
   "id": "0a24e198",
   "metadata": {},
   "source": [
    "As you reach the heart of the meadow, you notice a peculiar stone pedestal emerging from the earth, bathed in a shaft of light that seems too deliberate to be natural. Atop the pedestal, three glowing orbs hover, each radiating a different color and energy."
   ]
  },
  {
   "cell_type": "code",
   "execution_count": 2,
   "id": "bb24c1a3",
   "metadata": {},
   "outputs": [
    {
     "name": "stdout",
     "output_type": "stream",
     "text": [
      "The orbs pulsate with power, each promising a unique advantage. Choose wisely, for only one will grant the strength needed to defeat the monster ahead. Type 'flight', 'invisibility', or 'fire' to select your superpower. fire\n",
      "Fire surges through your veins, and when the monster attacks, you unleash a torrent of flames. The fire scorches the beast, driving it back and eventually overcoming it. This power proves to be the key to your victory.\n",
      "Elder’s Speech:'Eldoria owes you a debt of gratitude that may never fully be repaid. You ventured into the unknown, faced great peril, and returned a hero. Let this day be remembered not only for the peace you’ve won but for the courage you’ve shown.'\n",
      "Thank you!\n"
     ]
    }
   ],
   "source": [
    "second_loop = True\n",
    "chose = [\"flight\",\"invisibility\",\"fire\"]\n",
    "while second_loop:\n",
    "    user_chose = input(\"The orbs pulsate with power, each promising a unique advantage. Choose wisely, for only one will grant the strength needed to defeat the monster ahead. Type 'flight', 'invisibility', or 'fire' to select your superpower. \").lower()\n",
    "    if user_chose == \"q\":\n",
    "        print(\"Game over!\")\n",
    "        print(\"Thank you for playing.\")\n",
    "        break\n",
    "        quit()\n",
    "    elif user_chose == \"flight\":\n",
    "        print(\"You feel yourself lifted, your body light as air. However, as you approach the monster, you realize that evading does not equate to defeating. You can avoid the monster, but not advance your quest.\")\n",
    "        print(\"Game over!\")\n",
    "        quit()\n",
    "        break\n",
    "    elif user_chose == \"invisibility\":\n",
    "        print(\"Cloaked in invisibility, you bypass the monster unnoticed. While you avoid conflict, the lack of confrontation leaves the threat to the village unresolved.\")\n",
    "        print(\"game over\")\n",
    "        quit()\n",
    "        break\n",
    "    elif user_chose == \"fire\":\n",
    "        print(\"Fire surges through your veins, and when the monster attacks, you unleash a torrent of flames. The fire scorches the beast, driving it back and eventually overcoming it. This power proves to be the key to your victory.\")\n",
    "        break\n",
    "    else:\n",
    "        user_path not in chose\n",
    "        continue\n",
    "        \n",
    "if user_chose == \"fire\":\n",
    "    print(\"Elder’s Speech:'Eldoria owes you a debt of gratitude that may never fully be repaid. You ventured into the unknown, faced great peril, and returned a hero. Let this day be remembered not only for the peace you’ve won but for the courage you’ve shown.'\")\n",
    "    \n",
    "print(\"Thank you!\")"
   ]
  }
 ],
 "metadata": {
  "kernelspec": {
   "display_name": "Python 3 (ipykernel)",
   "language": "python",
   "name": "python3"
  },
  "language_info": {
   "codemirror_mode": {
    "name": "ipython",
    "version": 3
   },
   "file_extension": ".py",
   "mimetype": "text/x-python",
   "name": "python",
   "nbconvert_exporter": "python",
   "pygments_lexer": "ipython3",
   "version": "3.11.7"
  }
 },
 "nbformat": 4,
 "nbformat_minor": 5
}
